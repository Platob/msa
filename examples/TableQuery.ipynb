{
 "cells": [
  {
   "cell_type": "code",
   "execution_count": null,
   "id": "c2f1a4a0-bd0c-461b-bbe8-13e641701894",
   "metadata": {},
   "outputs": [],
   "source": [
    "from msa.odbc import PyODBC\n",
    "\n",
    "server = PyODBC(\n",
    "    uri=\"Server=localhost\\SQLEXPRESS01;Database=master;DRIVER={ODBC Driver 18 for SQL Server};\"\n",
    "        \"Trusted_Connection=yes;TrustServerCertificate=YES;\"\n",
    ")"
   ]
  },
  {
   "cell_type": "code",
   "execution_count": null,
   "id": "1f26a7dc-18d2-462c-ad92-7cbf94b58472",
   "metadata": {},
   "outputs": [],
   "source": [
    "with server.cursor() as c:\n",
    "    try:\n",
    "        c.execute(f\"DROP TABLE PYMSA_UNITTEST\")\n",
    "    except Exception:\n",
    "        pass\n",
    "    c.execute(f\"\"\"CREATE TABLE PYMSA_UNITTEST (\n",
    "    ID int IDENTITY,\n",
    "int int,\n",
    "bigint bigint,\n",
    "bit bit,\n",
    "decimal decimal,\n",
    "float float,\n",
    "real real,\n",
    "date date,\n",
    "datetime datetime,\n",
    "datetime2 datetime2,\n",
    "smalldatetime smalldatetime,\n",
    "time time,\n",
    "string varchar(64) not null,\n",
    "binary varbinary(64)\n",
    ")\"\"\")\n",
    "    c.commit()\n",
    "    c.execute(f\"TRUNCATE TABLE PYMSA_UNITTEST\")\n",
    "    c.execute(f\"\"\"INSERT INTO PYMSA_UNITTEST (int, string, date)\n",
    "    VALUES (1, 'test', '2022-10-20'), (null, 'test', null)\"\"\")\n",
    "    c.commit()"
   ]
  },
  {
   "cell_type": "markdown",
   "id": "0c693f1d-47e7-450a-8f01-d1a4a4537ff2",
   "metadata": {},
   "source": [
    "### Table"
   ]
  },
  {
   "cell_type": "code",
   "execution_count": null,
   "id": "8b0d1cde-4043-401a-b5bf-01e7dba5f51a",
   "metadata": {
    "tags": []
   },
   "outputs": [],
   "source": [
    "with server.connect() as connection:\n",
    "    table = connection.table(name=\"PYMSA_UNITTEST\")\n",
    "    schema_arrow = table.schema_arrow\n",
    "schema_arrow"
   ]
  },
  {
   "cell_type": "markdown",
   "id": "25a65164-fdaf-433c-a78b-55323cbe0618",
   "metadata": {},
   "source": [
    "### Fetch"
   ]
  },
  {
   "cell_type": "code",
   "execution_count": null,
   "id": "000cd366-0f5d-41cd-9afa-ea259c1e72da",
   "metadata": {
    "tags": []
   },
   "outputs": [],
   "source": [
    "with server.cursor() as c:\n",
    "    result = c.execute(f\"SELECT * from PYMSA_UNITTEST\").fetchall()\n",
    "    result = [list(row) for row in result]\n",
    "result"
   ]
  },
  {
   "cell_type": "code",
   "execution_count": null,
   "id": "7e7ff001-003a-47d9-a6db-b894bdfbb42e",
   "metadata": {},
   "outputs": [],
   "source": [
    "with server.cursor() as c:\n",
    "    c.execute(f\"SELECT * from PYMSA_UNITTEST\")\n",
    "    result = list(c.fetch_arrow_batches(n=10)) # Iterator pyarrow.RecordBatch"
   ]
  },
  {
   "cell_type": "code",
   "execution_count": null,
   "id": "c83bcbfe-b87e-47bd-ad02-227b791baa26",
   "metadata": {},
   "outputs": [],
   "source": [
    "with server.cursor() as c:\n",
    "    c.execute(f\"SELECT * from PYMSA_UNITTEST\")\n",
    "    result = c.fetch_arrow() # all, pyarrow.Table\n",
    "result"
   ]
  },
  {
   "cell_type": "code",
   "execution_count": null,
   "id": "d4c729d9-ee67-4536-9a4c-a9d9db50f76e",
   "metadata": {},
   "outputs": [],
   "source": [
    "with server.cursor() as c:\n",
    "    c.execute(f\"SELECT int, string, date, float, real from PYMSA_UNITTEST\")\n",
    "    pyarrow_batch_reader = c.reader() # pyarrow.RecordBatchReader"
   ]
  },
  {
   "cell_type": "markdown",
   "id": "37f0db97-e031-4ad3-81e6-9784ee5a8e68",
   "metadata": {},
   "source": [
    "### Insert"
   ]
  },
  {
   "cell_type": "markdown",
   "id": "f2fc5283-3aec-44bc-9385-911adbc9442c",
   "metadata": {},
   "source": [
    "#### Classic INSERT INTO VALUES"
   ]
  },
  {
   "cell_type": "code",
   "execution_count": null,
   "id": "dcbdeb8d-7c44-44fb-8cb8-47ab38706f5c",
   "metadata": {},
   "outputs": [],
   "source": [
    "import datetime\n",
    "\n",
    "with server.connect() as connection:\n",
    "    table = connection.table(name=\"PYMSA_UNITTEST\")\n",
    "    #table.truncate()\n",
    "    \n",
    "    with table.connection.cursor() as c:\n",
    "        table.insert_pylist(\n",
    "            rows=[[datetime.datetime.now(), datetime.datetime.now(), 1, b\"bytes\"]],\n",
    "            columns=[\"string\", \"datetime2\", \"int\", \"binary\"],\n",
    "            commit=True,\n",
    "            cursor=c # set = None to build new default cursor, usefull to execute statements before insert\n",
    "        )\n",
    "        c.execute(f\"SELECT * from PYMSA_UNITTEST\")\n",
    "    \n",
    "        batches = list(c.fetch_arrow_batches(n=10))\n",
    "    \n",
    "    with table.connection.cursor() as c:\n",
    "        c.execute(\"\"\"SET IDENTITY_INSERT %s ON\"\"\" % table.full_name)\n",
    "        table.insert_arrow(\n",
    "            data=batches, # RecordBatch, RecordBatchReader or Iterable[RecordBatch]\n",
    "            cast=True,\n",
    "            safe=True,\n",
    "            commit=True,\n",
    "            cursor=c\n",
    "        )\n",
    "    \n",
    "    result = table.connection.cursor().execute(\"SELECT * from PYMSA_UNITTEST\").fetchall()\n",
    "result"
   ]
  },
  {
   "cell_type": "markdown",
   "id": "bc0d6af6-1d8b-4b18-91ce-188eb9b69e9d",
   "metadata": {},
   "source": [
    "#### Bulk Insert with CSV"
   ]
  },
  {
   "cell_type": "code",
   "execution_count": null,
   "id": "39fb04fd-c9b8-4be8-8df9-c80e25417175",
   "metadata": {},
   "outputs": [],
   "source": [
    "with server.connect() as connection:\n",
    "    table = connection.table(name=\"PYMSA_UNITTEST\")\n",
    "    data = connection.cursor().execute(\"SELECT * from PYMSA_UNITTEST\").fetch_arrow()\n",
    "    \n",
    "    table.insert_arrow(data, commit=True, bulk=True)\n",
    "    table.bulk_insert_arrow(data, commit=True)"
   ]
  },
  {
   "cell_type": "markdown",
   "id": "fe5fda6c-248b-4adc-b90f-22a0d8bc3242",
   "metadata": {},
   "source": [
    "#### Insert parquet file"
   ]
  },
  {
   "cell_type": "code",
   "execution_count": null,
   "id": "ee259d1c-9022-4ee7-b73d-9fecd5d4cb80",
   "metadata": {},
   "outputs": [],
   "source": [
    "import pyarrow.parquet as p\n",
    "data = pyarrow.Table.from_arrays([\n",
    "    pyarrow.array(['test', 'test']),\n",
    "    pyarrow.array(['dropped', 'dropped'])\n",
    "], schema=pyarrow.schema([\n",
    "    pyarrow.field(\"string\", pyarrow.string(), nullable=False),\n",
    "    pyarrow.field(\"dropped\", pyarrow.string(), nullable=False)\n",
    "]))\n",
    "buf = io.BytesIO()\n",
    "p.write_table(data, buf)\n",
    "buf.seek(0)"
   ]
  },
  {
   "cell_type": "code",
   "execution_count": null,
   "id": "9b653d9e-e788-4611-8990-512f4d6c02f9",
   "metadata": {},
   "outputs": [],
   "source": [
    "from pyarrow.fs import LocalFileSystem\n",
    "\n",
    "with server.connect() as connection:\n",
    "    table = connection.table(name=\"PYMSA_UNITTEST\")\n",
    "    table.insert_parquet_file(\n",
    "        buf, # or filesystem path, file-object, Native file like pyarrow.parquet.write_table\n",
    "        batch_size=65536, # default\n",
    "        commit=True,\n",
    "        bulk=False, # CSV bulk insert\n",
    "        filesystem=LocalFileSystem() # pyarrow.fs.FileSystem, default = LocalFileSystem()\n",
    "    )\n",
    "    table.insert_parquet_dir(\n",
    "        \"path/to/dir\", # or filesystem dir path only\n",
    "        batch_size=65536, # default\n",
    "        commit=True,\n",
    "        bulk=False, # CSV bulk insert\n",
    "        filesystem=LocalFileSystem() # pyarrow.fs.FileSystem, default = LocalFileSystem()\n",
    "    )\n",
    "    data = connection.cursor().execute(\"SELECT * from PYMSA_UNITTEST\").fetch_arrow()\n",
    "data"
   ]
  },
  {
   "cell_type": "markdown",
   "id": "21171c21-d9f6-40e1-a5b8-de5c153497d7",
   "metadata": {},
   "source": [
    "### View"
   ]
  },
  {
   "cell_type": "code",
   "execution_count": null,
   "id": "972a46da-a58c-463d-b67e-0c8d901fa23a",
   "metadata": {},
   "outputs": [],
   "source": [
    "with server.connect() as connection:\n",
    "    connection.cursor().execute(\"CREATE VIEW vPYMSA_UNITTEST AS SELECT string, int from PYMSA_UNITTEST\")\n",
    "    \n",
    "    table = connection.table(\"vPYMSA_UNITTEST\")\n",
    "    table.schema_arrow\n",
    "table.schema_arrow"
   ]
  },
  {
   "cell_type": "code",
   "execution_count": null,
   "id": "d4368240-7f44-4b2e-9602-f2194a2542c6",
   "metadata": {},
   "outputs": [],
   "source": [
    "with server.connect() as connection:\n",
    "    connection.table(name=\"PYMSA_UNITTEST\").drop()"
   ]
  },
  {
   "cell_type": "code",
   "execution_count": null,
   "id": "3a095d83-f0c2-41dc-9caf-5ddfdb49714b",
   "metadata": {},
   "outputs": [],
   "source": []
  }
 ],
 "metadata": {
  "kernelspec": {
   "display_name": "Python 3 (ipykernel)",
   "language": "python",
   "name": "python3"
  },
  "language_info": {
   "codemirror_mode": {
    "name": "ipython",
    "version": 3
   },
   "file_extension": ".py",
   "mimetype": "text/x-python",
   "name": "python",
   "nbconvert_exporter": "python",
   "pygments_lexer": "ipython3",
   "version": "3.9.12"
  }
 },
 "nbformat": 4,
 "nbformat_minor": 5
}
