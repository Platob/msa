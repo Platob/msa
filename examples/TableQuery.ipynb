{
 "cells": [
  {
   "cell_type": "code",
   "execution_count": null,
   "id": "c2f1a4a0-bd0c-461b-bbe8-13e641701894",
   "metadata": {},
   "outputs": [],
   "source": [
    "from msa.odbc import PyODBC\n",
    "\n",
    "server = PyODBC(\n",
    "    uri=\"Server=localhost\\SQLEXPRESS01;Database=master;DRIVER={ODBC Driver 18 for SQL Server};\"\n",
    "        \"Trusted_Connection=yes;TrustServerCertificate=YES;\"\n",
    ")"
   ]
  },
  {
   "cell_type": "code",
   "execution_count": null,
   "id": "1f26a7dc-18d2-462c-ad92-7cbf94b58472",
   "metadata": {},
   "outputs": [],
   "source": [
    "with server.cursor() as c:\n",
    "    try:\n",
    "        c.execute(f\"DROP TABLE PYMSA_UNITTEST\")\n",
    "    except Exception:\n",
    "        pass\n",
    "    c.execute(f\"\"\"CREATE TABLE PYMSA_UNITTEST (\n",
    "int int,\n",
    "bigint bigint,\n",
    "bit bit,\n",
    "decimal decimal,\n",
    "float float,\n",
    "real real,\n",
    "date date,\n",
    "datetime datetime,\n",
    "datetime2 datetime2,\n",
    "smalldatetime smalldatetime,\n",
    "time time,\n",
    "string varchar(64) not null,\n",
    "binary varbinary(64)\n",
    ")\"\"\")\n",
    "    c.commit()\n",
    "    c.execute(f\"TRUNCATE TABLE PYMSA_UNITTEST\")\n",
    "    c.execute(f\"\"\"INSERT INTO PYMSA_UNITTEST (int, string, date)\n",
    "    VALUES (1, 'test', '2022-10-20'), (null, 'test', null)\"\"\")\n",
    "    c.commit()"
   ]
  },
  {
   "cell_type": "markdown",
   "id": "25a65164-fdaf-433c-a78b-55323cbe0618",
   "metadata": {},
   "source": [
    "### Fetch"
   ]
  },
  {
   "cell_type": "code",
   "execution_count": null,
   "id": "000cd366-0f5d-41cd-9afa-ea259c1e72da",
   "metadata": {},
   "outputs": [],
   "source": [
    "with server.cursor() as c:\n",
    "    result = c.execute(f\"SELECT string, int, date from PYMSA_UNITTEST\").fetchall()\n",
    "    result = [list(row) for row in result]"
   ]
  },
  {
   "cell_type": "code",
   "execution_count": null,
   "id": "7e7ff001-003a-47d9-a6db-b894bdfbb42e",
   "metadata": {},
   "outputs": [],
   "source": [
    "with server.cursor() as c:\n",
    "    c.execute(f\"SELECT int, string, date, float, real from PYMSA_UNITTEST\")\n",
    "    result = list(c.fetch_arrow_batches(n=10)) # Iterator pyarrow.RecordBatch"
   ]
  },
  {
   "cell_type": "code",
   "execution_count": null,
   "id": "9755ce44-68e2-4c5f-abef-1a239a2938bc",
   "metadata": {},
   "outputs": [],
   "source": [
    "with server.cursor() as c:\n",
    "    c.execute(f\"SELECT int, string, date, float, real from PYMSA_UNITTEST\")\n",
    "    result = c.fetch_arrow() # all"
   ]
  },
  {
   "cell_type": "code",
   "execution_count": null,
   "id": "1ef4b14e-a580-4f72-bb2a-05a0ce87ca15",
   "metadata": {},
   "outputs": [],
   "source": [
    "with server.cursor() as c:\n",
    "    c.execute(f\"DROP TABLE PYMSA_UNITTEST\")\n",
    "    c.commit()"
   ]
  },
  {
   "cell_type": "code",
   "execution_count": null,
   "id": "613ee53b-d489-4de9-8a72-00a55b628f0e",
   "metadata": {},
   "outputs": [],
   "source": []
  }
 ],
 "metadata": {
  "kernelspec": {
   "display_name": "Python 3 (ipykernel)",
   "language": "python",
   "name": "python3"
  },
  "language_info": {
   "codemirror_mode": {
    "name": "ipython",
    "version": 3
   },
   "file_extension": ".py",
   "mimetype": "text/x-python",
   "name": "python",
   "nbconvert_exporter": "python",
   "pygments_lexer": "ipython3",
   "version": "3.9.12"
  }
 },
 "nbformat": 4,
 "nbformat_minor": 5
}
