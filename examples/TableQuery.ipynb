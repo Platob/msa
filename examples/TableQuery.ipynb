{
 "cells": [
  {
   "cell_type": "code",
   "execution_count": null,
   "id": "c2f1a4a0-bd0c-461b-bbe8-13e641701894",
   "metadata": {},
   "outputs": [],
   "source": [
    "from msa.odbc import PyODBC\n",
    "\n",
    "server = PyODBC(\n",
    "    uri=\"Server=localhost\\SQLEXPRESS01;Database=master;DRIVER={ODBC Driver 18 for SQL Server};\"\n",
    "        \"Trusted_Connection=yes;TrustServerCertificate=YES;\"\n",
    ")"
   ]
  },
  {
   "cell_type": "code",
   "execution_count": null,
   "id": "1f26a7dc-18d2-462c-ad92-7cbf94b58472",
   "metadata": {},
   "outputs": [],
   "source": [
    "with server.cursor() as c:\n",
    "    try:\n",
    "        c.execute(f\"DROP TABLE PYMSA_UNITTEST\")\n",
    "    except Exception:\n",
    "        pass\n",
    "    c.execute(f\"\"\"CREATE TABLE PYMSA_UNITTEST (\n",
    "int int,\n",
    "bigint bigint,\n",
    "bit bit,\n",
    "decimal decimal,\n",
    "float float,\n",
    "real real,\n",
    "date date,\n",
    "datetime datetime,\n",
    "datetime2 datetime2,\n",
    "smalldatetime smalldatetime,\n",
    "time time,\n",
    "string varchar(64) not null,\n",
    "binary varbinary(64)\n",
    ")\"\"\")\n",
    "    c.commit()\n",
    "    c.execute(f\"TRUNCATE TABLE PYMSA_UNITTEST\")\n",
    "    c.execute(f\"\"\"INSERT INTO PYMSA_UNITTEST (int, string, date)\n",
    "    VALUES (1, 'test', '2022-10-20'), (null, 'test', null)\"\"\")\n",
    "    c.commit()"
   ]
  },
  {
   "cell_type": "markdown",
   "id": "0c693f1d-47e7-450a-8f01-d1a4a4537ff2",
   "metadata": {},
   "source": [
    "### Table"
   ]
  },
  {
   "cell_type": "code",
   "execution_count": null,
   "id": "8b0d1cde-4043-401a-b5bf-01e7dba5f51a",
   "metadata": {},
   "outputs": [],
   "source": [
    "with server.connect() as connection:\n",
    "    table = connection.table(name=\"PYMSA_UNITTEST\")\n",
    "    schema_arrow = table.schema_arrow\n",
    "schema_arrow"
   ]
  },
  {
   "cell_type": "markdown",
   "id": "25a65164-fdaf-433c-a78b-55323cbe0618",
   "metadata": {},
   "source": [
    "### Fetch"
   ]
  },
  {
   "cell_type": "code",
   "execution_count": null,
   "id": "000cd366-0f5d-41cd-9afa-ea259c1e72da",
   "metadata": {},
   "outputs": [],
   "source": [
    "with server.cursor() as c:\n",
    "    result = c.execute(f\"SELECT string, int, date from PYMSA_UNITTEST\").fetchall()\n",
    "    result = [list(row) for row in result]"
   ]
  },
  {
   "cell_type": "code",
   "execution_count": null,
   "id": "7e7ff001-003a-47d9-a6db-b894bdfbb42e",
   "metadata": {},
   "outputs": [],
   "source": [
    "with server.cursor() as c:\n",
    "    c.execute(f\"SELECT int, string, date, float, real from PYMSA_UNITTEST\")\n",
    "    result = list(c.fetch_arrow_batches(n=10)) # Iterator pyarrow.RecordBatch"
   ]
  },
  {
   "cell_type": "code",
   "execution_count": null,
   "id": "9755ce44-68e2-4c5f-abef-1a239a2938bc",
   "metadata": {},
   "outputs": [],
   "source": [
    "with server.cursor() as c:\n",
    "    c.execute(f\"SELECT int, string, date, float, real from PYMSA_UNITTEST\")\n",
    "    result = c.fetch_arrow() # all, pyarrow.Table"
   ]
  },
  {
   "cell_type": "code",
   "execution_count": null,
   "id": "d4c729d9-ee67-4536-9a4c-a9d9db50f76e",
   "metadata": {},
   "outputs": [],
   "source": [
    "with server.cursor() as c:\n",
    "    c.execute(f\"SELECT int, string, date, float, real from PYMSA_UNITTEST\")\n",
    "    pyarrow_batch_reader = c.reader() # pyarrow.RecordBatchReader"
   ]
  },
  {
   "cell_type": "markdown",
   "id": "37f0db97-e031-4ad3-81e6-9784ee5a8e68",
   "metadata": {},
   "source": [
    "### Insert"
   ]
  },
  {
   "cell_type": "code",
   "execution_count": null,
   "id": "dcbdeb8d-7c44-44fb-8cb8-47ab38706f5c",
   "metadata": {},
   "outputs": [],
   "source": [
    "import datetime\n",
    "\n",
    "with server.connect() as connection:\n",
    "    table = connection.table(name=\"PYMSA_UNITTEST\")\n",
    "    table.truncate()\n",
    "    \n",
    "    with table.connection.cursor() as c:\n",
    "        table.insert_pylist(\n",
    "            rows=[[datetime.datetime.now(), datetime.datetime.now(), 1, b\"bytes\"]],\n",
    "            columns=[\"string\", \"datetime2\", \"int\", \"binary\"],\n",
    "            commit=True,\n",
    "            cursor=c # set = None to build new default cursor, usefull to execute statements before insert\n",
    "        )\n",
    "        c.execute(f\"SELECT * from PYMSA_UNITTEST\")\n",
    "    \n",
    "        batches = list(c.fetch_arrow_batches(n=10))\n",
    "    \n",
    "    table.insert_arrow(\n",
    "        data=batches, # RecordBatch, RecordBatchReader or Iterable[RecordBatch]\n",
    "        cast=True,\n",
    "        safe=True,\n",
    "        commit=True,\n",
    "        cursor=None\n",
    "    )\n",
    "    \n",
    "    result = table.connection.cursor().execute(\"SELECT * from PYMSA_UNITTEST\").fetchall()\n",
    "result"
   ]
  },
  {
   "cell_type": "markdown",
   "id": "bc0d6af6-1d8b-4b18-91ce-188eb9b69e9d",
   "metadata": {},
   "source": [
    "#### Bulk Insert with CSV"
   ]
  },
  {
   "cell_type": "code",
   "execution_count": null,
   "id": "39fb04fd-c9b8-4be8-8df9-c80e25417175",
   "metadata": {},
   "outputs": [],
   "source": [
    "with server.connect() as connection:\n",
    "    table = connection.table(name=\"PYMSA_UNITTEST\")\n",
    "    data = connection.cursor().execute(\"SELECT * from PYMSA_UNITTEST\").fetch_arrow()\n",
    "    \n",
    "    table.insert_arrow(data, commit=True, bulk=True)\n",
    "    table.bulk_insert_arrow(data, commit=True)"
   ]
  },
  {
   "cell_type": "code",
   "execution_count": null,
   "id": "6d834bdd-6f6d-4af5-9d87-0f2a5b6c20ae",
   "metadata": {},
   "outputs": [],
   "source": [
    "table.schema_arrow"
   ]
  },
  {
   "cell_type": "code",
   "execution_count": null,
   "id": "d6e2d287-9399-4d2a-b447-fd6d7836f17f",
   "metadata": {},
   "outputs": [],
   "source": [
    "with server.connect() as connection:\n",
    "    t = connection.cursor().execute(\"SELECT * from PYMSA_UNITTEST\").fetch_arrow()\n",
    "t.to_pandas()"
   ]
  },
  {
   "cell_type": "code",
   "execution_count": null,
   "id": "972a46da-a58c-463d-b67e-0c8d901fa23a",
   "metadata": {},
   "outputs": [],
   "source": [
    "with server.connect() as connection:\n",
    "    connection.cursor().execute(\"CREATE VIEW vPYMSA_UNITTEST AS SELECT string, int from PYMSA_UNITTEST\")\n",
    "    \n",
    "    table = connection.table(\"vPYMSA_UNITTEST\")\n",
    "    table.schema_arrow\n",
    "table.schema_arrow"
   ]
  },
  {
   "cell_type": "code",
   "execution_count": null,
   "id": "b7b55ef0-8eeb-42fe-9e59-924c61b6c5de",
   "metadata": {},
   "outputs": [],
   "source": [
    "table.schema_arrow"
   ]
  },
  {
   "cell_type": "code",
   "execution_count": null,
   "id": "d4368240-7f44-4b2e-9602-f2194a2542c6",
   "metadata": {},
   "outputs": [],
   "source": [
    "with server.connect() as connection:\n",
    "    connection.table(name=\"PYMSA_UNITTEST\").drop()"
   ]
  },
  {
   "cell_type": "code",
   "execution_count": null,
   "id": "3a095d83-f0c2-41dc-9caf-5ddfdb49714b",
   "metadata": {},
   "outputs": [],
   "source": []
  }
 ],
 "metadata": {
  "kernelspec": {
   "display_name": "Python 3 (ipykernel)",
   "language": "python",
   "name": "python3"
  },
  "language_info": {
   "codemirror_mode": {
    "name": "ipython",
    "version": 3
   },
   "file_extension": ".py",
   "mimetype": "text/x-python",
   "name": "python",
   "nbconvert_exporter": "python",
   "pygments_lexer": "ipython3",
   "version": "3.9.12"
  }
 },
 "nbformat": 4,
 "nbformat_minor": 5
}
